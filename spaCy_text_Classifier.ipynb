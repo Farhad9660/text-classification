{
 "cells": [
  {
   "cell_type": "code",
   "execution_count": 1,
   "id": "149985d1",
   "metadata": {},
   "outputs": [
    {
     "data": {
      "text/html": [
       "<div>\n",
       "<style scoped>\n",
       "    .dataframe tbody tr th:only-of-type {\n",
       "        vertical-align: middle;\n",
       "    }\n",
       "\n",
       "    .dataframe tbody tr th {\n",
       "        vertical-align: top;\n",
       "    }\n",
       "\n",
       "    .dataframe thead th {\n",
       "        text-align: right;\n",
       "    }\n",
       "</style>\n",
       "<table border=\"1\" class=\"dataframe\">\n",
       "  <thead>\n",
       "    <tr style=\"text-align: right;\">\n",
       "      <th></th>\n",
       "      <th>type</th>\n",
       "      <th>text</th>\n",
       "    </tr>\n",
       "  </thead>\n",
       "  <tbody>\n",
       "    <tr>\n",
       "      <th>0</th>\n",
       "      <td>ham</td>\n",
       "      <td>Go until jurong point, crazy.. Available only ...</td>\n",
       "    </tr>\n",
       "    <tr>\n",
       "      <th>1</th>\n",
       "      <td>ham</td>\n",
       "      <td>Ok lar... Joking wif u oni...</td>\n",
       "    </tr>\n",
       "    <tr>\n",
       "      <th>2</th>\n",
       "      <td>spam</td>\n",
       "      <td>Free entry in 2 a wkly comp to win FA Cup fina...</td>\n",
       "    </tr>\n",
       "    <tr>\n",
       "      <th>3</th>\n",
       "      <td>ham</td>\n",
       "      <td>U dun say so early hor... U c already then say...</td>\n",
       "    </tr>\n",
       "    <tr>\n",
       "      <th>4</th>\n",
       "      <td>ham</td>\n",
       "      <td>Nah I don't think he goes to usf, he lives aro...</td>\n",
       "    </tr>\n",
       "    <tr>\n",
       "      <th>5</th>\n",
       "      <td>spam</td>\n",
       "      <td>FreeMsg Hey there darling it's been 3 week's n...</td>\n",
       "    </tr>\n",
       "    <tr>\n",
       "      <th>6</th>\n",
       "      <td>ham</td>\n",
       "      <td>Even my brother is not like to speak with me. ...</td>\n",
       "    </tr>\n",
       "    <tr>\n",
       "      <th>7</th>\n",
       "      <td>ham</td>\n",
       "      <td>As per your request 'Melle Melle (Oru Minnamin...</td>\n",
       "    </tr>\n",
       "    <tr>\n",
       "      <th>8</th>\n",
       "      <td>spam</td>\n",
       "      <td>WINNER!! As a valued network customer you have...</td>\n",
       "    </tr>\n",
       "    <tr>\n",
       "      <th>9</th>\n",
       "      <td>spam</td>\n",
       "      <td>Had your mobile 11 months or more? U R entitle...</td>\n",
       "    </tr>\n",
       "  </tbody>\n",
       "</table>\n",
       "</div>"
      ],
      "text/plain": [
       "   type                                               text\n",
       "0   ham  Go until jurong point, crazy.. Available only ...\n",
       "1   ham                      Ok lar... Joking wif u oni...\n",
       "2  spam  Free entry in 2 a wkly comp to win FA Cup fina...\n",
       "3   ham  U dun say so early hor... U c already then say...\n",
       "4   ham  Nah I don't think he goes to usf, he lives aro...\n",
       "5  spam  FreeMsg Hey there darling it's been 3 week's n...\n",
       "6   ham  Even my brother is not like to speak with me. ...\n",
       "7   ham  As per your request 'Melle Melle (Oru Minnamin...\n",
       "8  spam  WINNER!! As a valued network customer you have...\n",
       "9  spam  Had your mobile 11 months or more? U R entitle..."
      ]
     },
     "execution_count": 1,
     "metadata": {},
     "output_type": "execute_result"
    }
   ],
   "source": [
    "import pandas as pd\n",
    "data = pd.read_csv('E:/DataScience-Software/nlp-datasets/sms_spam.csv')\n",
    "data.head(10)"
   ]
  },
  {
   "cell_type": "code",
   "execution_count": 4,
   "id": "d0cb279f",
   "metadata": {},
   "outputs": [
    {
     "data": {
      "text/plain": [
       "[('Go until jurong point, crazy.. Available only in bugis n great world la e buffet... Cine there got amore wat...',\n",
       "  {'cats': {'ham': True, 'spam': False}}),\n",
       " ('Ok lar... Joking wif u oni...', {'cats': {'ham': True, 'spam': False}}),\n",
       " (\"Free entry in 2 a wkly comp to win FA Cup final tkts 21st May 2005. Text FA to 87121 to receive entry question(std txt rate)T&C's apply 08452810075over18's\",\n",
       "  {'cats': {'ham': False, 'spam': True}}),\n",
       " ('U dun say so early hor... U c already then say...',\n",
       "  {'cats': {'ham': True, 'spam': False}})]"
      ]
     },
     "execution_count": 4,
     "metadata": {},
     "output_type": "execute_result"
    }
   ],
   "source": [
    "import spacy\n",
    "#create an empty model\n",
    "mynlp = spacy.blank(\"en\")\n",
    "#create a text classifier\n",
    "textcat = mynlp.create_pipe(\"textcat\", config ={\"exclusive_classes\": True, \"architecture\": \"bow\"})\n",
    "#add the classifier to the empty model\n",
    "mynlp.add_pipe(textcat)\n",
    "\n",
    "textcat.add_label(\"ham\")\n",
    "textcat.add_label(\"spam\")\n",
    "\n",
    "#preparing the train data\n",
    "train_texts = data['text'].values\n",
    "train_labels = [{'cats':{'ham': t == 'ham', 'spam': t =='spam'}} for t in data['type']]\n",
    "\n",
    "#combine the samples and lables in one list\n",
    "train_data = list(zip(train_texts,train_labels))\n",
    "train_data[:4]\n",
    "\n"
   ]
  },
  {
   "cell_type": "code",
   "execution_count": 11,
   "id": "dd4e16a1",
   "metadata": {},
   "outputs": [
    {
     "name": "stdout",
     "output_type": "stream",
     "text": [
      "{'textcat': 0.4162386108300211}\n",
      "{'textcat': 0.624253188097498}\n",
      "{'textcat': 0.7509113090248354}\n",
      "{'textcat': 0.8367707935785589}\n",
      "{'textcat': 0.8908664886556461}\n",
      "{'textcat': 0.9246990838800522}\n",
      "{'textcat': 0.9489346552956408}\n",
      "{'textcat': 0.9657462924332322}\n",
      "{'textcat': 0.9785745474880203}\n",
      "{'textcat': 0.988229886503772}\n"
     ]
    }
   ],
   "source": [
    "import random\n",
    "from spacy.util import minibatch\n",
    "random.seed(1)\n",
    "optimiser = mynlp.begin_training()  # this is the trianer\n",
    "\n",
    "losses ={}\n",
    "for epoch in range(10):\n",
    "    random.shuffle(train_data)\n",
    "    batches = minibatch(train_data, 8)\n",
    "    #iterate through minibatches\n",
    "    for batch in batches:\n",
    "        texts,labels = zip(*batch)\n",
    "        mynlp.update(texts, labels, sgd = optimiser, losses = losses)\n",
    "    print (losses)\n",
    "\n",
    "\n"
   ]
  },
  {
   "cell_type": "code",
   "execution_count": 18,
   "id": "c8147b5b",
   "metadata": {},
   "outputs": [
    {
     "name": "stdout",
     "output_type": "stream",
     "text": [
      "[[0.03451201 0.965488  ]]\n"
     ]
    }
   ],
   "source": [
    "#predict the labels for each new instance\n",
    "#example = \"Are you ready fro the tea party????? it's gonna be wild\"\n",
    "example = \"URGENT REPLY to this message for GUARANTEED FREE GIFT\"\n",
    "tokenised_example = mynlp.tokenizer(example)\n",
    "docs = [tokenised_example]\n",
    "model = mynlp.get_pipe(\"textcat\")\n",
    "scores, _ = model.predict(docs)\n",
    "print (scores)"
   ]
  },
  {
   "cell_type": "code",
   "execution_count": 19,
   "id": "8ee7800f",
   "metadata": {},
   "outputs": [
    {
     "name": "stdout",
     "output_type": "stream",
     "text": [
      "['spam']\n"
     ]
    }
   ],
   "source": [
    "# from scores to labels\n",
    "predicted_index = scores.argmax(axis=1)\n",
    "print ([textcat.labels[ind] for ind in predicted_index])"
   ]
  },
  {
   "cell_type": "code",
   "execution_count": null,
   "id": "4af1ee36",
   "metadata": {},
   "outputs": [],
   "source": []
  }
 ],
 "metadata": {
  "kernelspec": {
   "display_name": "Python 3",
   "language": "python",
   "name": "python3"
  },
  "language_info": {
   "codemirror_mode": {
    "name": "ipython",
    "version": 3
   },
   "file_extension": ".py",
   "mimetype": "text/x-python",
   "name": "python",
   "nbconvert_exporter": "python",
   "pygments_lexer": "ipython3",
   "version": "3.8.8"
  }
 },
 "nbformat": 4,
 "nbformat_minor": 5
}
